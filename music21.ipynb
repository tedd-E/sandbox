{
 "cells": [
  {
   "cell_type": "code",
   "execution_count": 19,
   "metadata": {},
   "outputs": [
    {
     "name": "stdout",
     "output_type": "stream",
     "text": [
      "Parsing bohemian_rhapsody.mid\n"
     ]
    }
   ],
   "source": [
    "from music21 import converter, stream, analysis, instrument, note, chord\n",
    "import pickle\n",
    "\n",
    "\n",
    "file = 'bohemian_rhapsody.mid'\n",
    "\n",
    "midi = converter.parse(file)\n",
    "\n",
    "print(\"Parsing %s\" % file)\n",
    "\n",
    "notes_to_parse = None\n",
    "\n",
    "notes=[]\n",
    "try:\n",
    "    # file has instrument parts\n",
    "    s2 = instrument.partitionByInstrument(midi)\n",
    "    notes_to_parse = s2.parts[0].recurse() \n",
    "except:\n",
    "    # file has notes in a flat structure\n",
    "    print('flat notes')\n",
    "    notes_to_parse = midi.flat.notes\n",
    "\n",
    "for element in notes_to_parse:\n",
    "    if isinstance(element, note.Note):\n",
    "        notes.append(str(element.pitch))\n",
    "    elif isinstance(element, chord.Chord):\n",
    "        notes.append('.'.join(str(n) for n in element.normalOrder))\n"
   ]
  },
  {
   "cell_type": "code",
   "execution_count": 22,
   "metadata": {},
   "outputs": [
    {
     "name": "stdout",
     "output_type": "stream",
     "text": [
      "['C5', 'D5', 'D5', 'B-4', 'C5', 'D5', 'C#5', 'D5', 'D5', 'E-5', 'F5', 'E-5', 'D5', 'C5', 'C5', 'C5', 'D5', 'E-5', 'D5', 'F5', 'E-5', 'D5', 'C5', 'C5', 'C#5', 'D5', 'D5', 'C5', 'B-4', 'C5', 'D5', 'F5', 'G#5', 'A5', 'G5', 'G5', 'F#5', 'G5', 'B-5', 'B-5', 'B-5', 'A5', 'B-5', 'B-5', 'G5', 'D5', 'E-5', 'C5', 'C5', 'F#5', 'G5', 'G5', 'F5', 'G5', 'G#5', 'G5', 'G5', 'G5', 'G5', 'G#5', 'G5', 'G5', 'F5', 'F5', 'B-4', 'B-4', 'F5', 'F5', 'G5', 'G5', 'G#5', 'G#5', 'B-5', 'G#5', 'G5', 'F5', 'E-5', 'F5', 'E-5', 'D5', 'E-5', 'B-4', 'B-4', 'B4', 'C#5', 'B4', 'C#5', 'B4', 'C#5', 'B4', 'B-4', 'B-4', 'E6', 'E6', 'A6', 'E6', 'E6', 'A6', 'E6', 'E6', 'E-6', 'E-6', 'E6', 'F#6', 'E6', 'C6', 'C6', 'C6', 'A5', 'F5', 'C6', 'A5', 'F5', 'D5', 'C5', 'C6', 'G#5', 'F5', 'C6', 'G#5', 'F5', 'E-5', 'C4', 'B3', '5.8', '2.7', '5.8', '2.7', '0', 'G#5', 'G5', 'E-5', 'G4', 'B-4', 'B-4', 'G5', 'F5', 'E-5', 'D5', 'B-4', 'B-4', 'G5', 'E-5', 'F5', 'G5', 'E-5', 'E-5', 'B4', 'B4', 'F#5', 'G5', 'F5', 'F5', 'E-5', 'E-5', 'C5', 'D5', 'E-5', 'E-5', 'E-5']\n"
     ]
    }
   ],
   "source": [
    "# Note: E-5 = E note 5 octaves above middle C, etc\n",
    "print(notes)"
   ]
  }
 ],
 "metadata": {
  "kernelspec": {
   "display_name": ".venv",
   "language": "python",
   "name": "python3"
  },
  "language_info": {
   "codemirror_mode": {
    "name": "ipython",
    "version": 3
   },
   "file_extension": ".py",
   "mimetype": "text/x-python",
   "name": "python",
   "nbconvert_exporter": "python",
   "pygments_lexer": "ipython3",
   "version": "3.9.10"
  }
 },
 "nbformat": 4,
 "nbformat_minor": 2
}
